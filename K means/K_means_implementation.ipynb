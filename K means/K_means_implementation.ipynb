{
  "cells": [
    {
      "cell_type": "code",
      "execution_count": 1,
      "id": "e82558ed",
      "metadata": {
        "id": "e82558ed"
      },
      "outputs": [],
      "source": [
        "import numpy as np\n",
        "import matplotlib.pyplot as plt\n",
        "from sklearn.datasets import make_blobs"
      ]
    },
    {
      "cell_type": "code",
      "execution_count": 2,
      "id": "687c37b3",
      "metadata": {
        "id": "687c37b3"
      },
      "outputs": [],
      "source": [
        "X,y = make_blobs(n_samples = 1000,n_features=2,random_state=3,centers=4)"
      ]
    },
    {
      "cell_type": "code",
      "execution_count": 3,
      "id": "e64e837d",
      "metadata": {
        "colab": {
          "base_uri": "https://localhost:8080/"
        },
        "id": "e64e837d",
        "outputId": "cbe1b07c-c66d-4bb2-cdac-5852809a7d1c"
      },
      "outputs": [
        {
          "output_type": "execute_result",
          "data": {
            "text/plain": [
              "array([1, 1, 2, 0, 1, 3, 3, 2, 1, 1, 1, 1, 1, 0, 1, 0, 2, 3, 2, 1, 0, 1,\n",
              "       0, 2, 2, 1, 2, 0, 2, 0, 0, 0, 2, 2, 0, 2, 0, 3, 1, 2, 2, 2, 1, 0,\n",
              "       1, 1, 3, 0, 0, 3, 3, 3, 2, 1, 2, 0, 2, 1, 2, 2, 2, 3, 3, 0, 0, 2,\n",
              "       0, 2, 3, 1, 1, 1, 0, 3, 2, 1, 1, 3, 2, 2, 3, 0, 3, 0, 1, 2, 3, 1,\n",
              "       0, 3, 1, 0, 3, 3, 3, 3, 1, 0, 3, 0, 2, 3, 1, 3, 1, 1, 1, 0, 3, 3,\n",
              "       1, 3, 2, 0, 3, 2, 1, 0, 1, 2, 1, 1, 3, 0, 0, 1, 1, 1, 3, 0, 3, 2,\n",
              "       3, 1, 2, 2, 3, 2, 1, 0, 3, 0, 3, 0, 1, 2, 0, 1, 3, 2, 0, 0, 0, 1,\n",
              "       0, 3, 2, 3, 3, 0, 2, 3, 1, 0, 0, 2, 2, 1, 1, 3, 0, 2, 1, 0, 2, 0,\n",
              "       1, 0, 3, 2, 2, 1, 2, 3, 1, 1, 2, 0, 3, 2, 2, 3, 3, 2, 0, 3, 1, 1,\n",
              "       1, 3, 2, 1, 0, 2, 1, 2, 3, 0, 0, 0, 0, 0, 2, 2, 0, 2, 0, 3, 0, 0,\n",
              "       3, 3, 3, 2, 3, 0, 2, 1, 3, 0, 2, 3, 3, 2, 1, 2, 1, 2, 0, 2, 1, 3,\n",
              "       1, 0, 2, 3, 0, 0, 3, 3, 0, 1, 0, 3, 2, 1, 1, 3, 2, 1, 3, 1, 3, 0,\n",
              "       3, 0, 3, 0, 2, 0, 2, 3, 0, 0, 1, 2, 2, 0, 1, 0, 0, 1, 2, 0, 3, 1,\n",
              "       3, 3, 0, 0, 3, 0, 0, 1, 3, 2, 3, 2, 2, 3, 0, 0, 2, 1, 3, 0, 0, 1,\n",
              "       1, 0, 0, 1, 0, 0, 1, 2, 1, 3, 0, 1, 3, 3, 0, 0, 2, 1, 0, 0, 2, 3,\n",
              "       0, 3, 3, 2, 3, 2, 1, 0, 2, 0, 2, 1, 3, 1, 2, 2, 2, 1, 0, 3, 3, 3,\n",
              "       0, 0, 2, 2, 1, 1, 2, 1, 0, 3, 2, 0, 0, 0, 3, 3, 2, 1, 2, 3, 2, 0,\n",
              "       0, 1, 2, 2, 0, 2, 0, 0, 2, 3, 0, 1, 2, 3, 0, 3, 0, 1, 2, 2, 3, 2,\n",
              "       0, 0, 2, 2, 0, 3, 1, 2, 0, 3, 3, 1, 0, 0, 1, 1, 1, 0, 0, 0, 1, 3,\n",
              "       0, 1, 2, 1, 2, 1, 2, 1, 0, 2, 1, 0, 2, 3, 3, 1, 2, 1, 3, 0, 3, 2,\n",
              "       2, 0, 2, 1, 1, 3, 2, 0, 0, 0, 2, 2, 2, 0, 0, 2, 2, 0, 1, 1, 3, 1,\n",
              "       0, 2, 3, 2, 2, 3, 3, 3, 1, 2, 3, 1, 1, 2, 3, 3, 2, 1, 0, 2, 1, 3,\n",
              "       2, 1, 0, 2, 0, 1, 1, 1, 2, 3, 1, 0, 2, 0, 1, 1, 3, 2, 0, 2, 1, 2,\n",
              "       2, 1, 0, 2, 1, 0, 0, 3, 0, 2, 2, 1, 0, 3, 1, 0, 2, 1, 0, 1, 3, 0,\n",
              "       3, 3, 1, 2, 2, 3, 1, 0, 1, 2, 3, 2, 1, 0, 0, 0, 1, 0, 1, 1, 1, 3,\n",
              "       3, 1, 1, 2, 2, 0, 2, 1, 3, 3, 1, 3, 3, 2, 1, 1, 2, 2, 2, 1, 2, 3,\n",
              "       2, 1, 1, 0, 2, 2, 0, 2, 1, 0, 1, 3, 2, 3, 1, 3, 3, 3, 0, 3, 3, 2,\n",
              "       0, 1, 3, 2, 1, 0, 1, 3, 0, 3, 3, 1, 2, 1, 2, 3, 1, 2, 1, 3, 2, 3,\n",
              "       1, 0, 0, 3, 3, 3, 1, 2, 1, 1, 3, 1, 3, 3, 2, 3, 2, 2, 0, 3, 1, 3,\n",
              "       0, 0, 1, 3, 1, 3, 0, 2, 0, 3, 1, 3, 3, 0, 3, 2, 1, 2, 0, 2, 2, 1,\n",
              "       0, 1, 3, 2, 3, 0, 2, 3, 1, 2, 3, 1, 1, 0, 0, 3, 3, 2, 1, 2, 2, 2,\n",
              "       0, 2, 3, 3, 2, 2, 1, 2, 2, 0, 2, 1, 3, 1, 0, 2, 0, 1, 2, 3, 0, 1,\n",
              "       0, 1, 1, 2, 1, 0, 2, 0, 0, 2, 1, 0, 1, 1, 2, 3, 1, 1, 3, 1, 0, 1,\n",
              "       3, 1, 1, 2, 1, 1, 3, 3, 3, 0, 2, 3, 3, 3, 0, 0, 3, 0, 2, 2, 0, 3,\n",
              "       0, 0, 1, 0, 2, 3, 1, 0, 1, 0, 2, 1, 3, 3, 1, 0, 3, 0, 3, 3, 1, 3,\n",
              "       2, 2, 3, 3, 3, 1, 3, 3, 3, 3, 1, 1, 1, 3, 3, 3, 3, 3, 1, 3, 1, 3,\n",
              "       1, 1, 3, 2, 3, 3, 1, 2, 0, 2, 0, 1, 0, 1, 0, 3, 3, 0, 2, 2, 3, 1,\n",
              "       1, 1, 2, 0, 2, 3, 1, 3, 0, 2, 0, 0, 0, 1, 3, 2, 3, 0, 1, 3, 3, 0,\n",
              "       2, 0, 3, 2, 1, 0, 2, 1, 1, 1, 2, 1, 3, 0, 0, 3, 0, 0, 2, 0, 2, 0,\n",
              "       0, 0, 1, 0, 1, 1, 0, 2, 1, 0, 0, 2, 1, 2, 3, 0, 2, 1, 1, 3, 3, 2,\n",
              "       3, 0, 0, 0, 2, 3, 0, 2, 2, 0, 3, 3, 2, 1, 1, 0, 2, 3, 3, 3, 2, 2,\n",
              "       2, 3, 0, 2, 2, 0, 3, 1, 0, 0, 3, 2, 0, 2, 1, 2, 2, 1, 1, 3, 3, 2,\n",
              "       2, 3, 1, 0, 0, 1, 0, 1, 1, 0, 3, 3, 2, 1, 3, 3, 3, 3, 1, 3, 2, 3,\n",
              "       0, 0, 0, 1, 0, 3, 2, 3, 2, 1, 1, 3, 3, 2, 3, 0, 1, 3, 2, 1, 3, 2,\n",
              "       3, 2, 3, 0, 3, 3, 0, 0, 0, 2, 0, 0, 2, 2, 1, 2, 1, 2, 1, 1, 2, 0,\n",
              "       2, 0, 1, 1, 1, 2, 1, 2, 2, 2])"
            ]
          },
          "metadata": {},
          "execution_count": 3
        }
      ],
      "source": [
        "y"
      ]
    },
    {
      "cell_type": "code",
      "execution_count": 4,
      "id": "aa34e5c0",
      "metadata": {
        "colab": {
          "base_uri": "https://localhost:8080/",
          "height": 286
        },
        "id": "aa34e5c0",
        "outputId": "eb4da4c3-3fc0-4037-dfe0-7a13ff84b3f7"
      },
      "outputs": [
        {
          "output_type": "execute_result",
          "data": {
            "text/plain": [
              "<matplotlib.collections.PathCollection at 0x7fd2dde69d90>"
            ]
          },
          "metadata": {},
          "execution_count": 4
        },
        {
          "output_type": "display_data",
          "data": {
            "text/plain": [
              "<Figure size 432x288 with 1 Axes>"
            ],
            "image/png": "[encoded data removed]"
          },
          "metadata": {
            "needs_background": "light"
          }
        }
      ],
      "source": [
        "plt.scatter(X[:,0],X[:,1])\n"
      ]
    },
    {
      "cell_type": "code",
      "execution_count": 5,
      "id": "89327fe9",
      "metadata": {
        "colab": {
          "base_uri": "https://localhost:8080/"
        },
        "id": "89327fe9",
        "outputId": "dcd666da-28fa-4744-bdb8-0be972c56f6d"
      },
      "outputs": [
        {
          "output_type": "execute_result",
          "data": {
            "text/plain": [
              "2.8284271247461903"
            ]
          },
          "metadata": {},
          "execution_count": 5
        }
      ],
      "source": [
        "def dist(v1,v2):\n",
        "    return np.sqrt(np.sum((v1-v2)**2))\n",
        "dist(np.array([1,2]),np.array([3,4]))"
      ]
    },
    {
      "cell_type": "code",
      "execution_count": 6,
      "id": "79db54d4",
      "metadata": {
        "id": "79db54d4"
      },
      "outputs": [],
      "source": [
        "k = 4\n",
        "clusters = {}\n",
        "colors = [\"red\",\"green\",\"blue\",\"orange\"]\n",
        "for i in range(k):\n",
        "    cluster = {\n",
        "        \"color\":colors[i],\n",
        "        \"points\":[],\n",
        "        \"center\":np.array([np.random.randint(-10,10)*np.random.random(),np.random.randint(-7.5,12.5)*np.random.random()])\n",
        "    }\n",
        "    clusters[i] = cluster"
      ]
    },
    {
      "cell_type": "code",
      "execution_count": 7,
      "id": "27cd68e2",
      "metadata": {
        "colab": {
          "base_uri": "https://localhost:8080/"
        },
        "id": "27cd68e2",
        "outputId": "07ec9169-be94-4e5e-f048-3e8d104f8ed8"
      },
      "outputs": [
        {
          "output_type": "execute_result",
          "data": {
            "text/plain": [
              "{0: {'color': 'red',\n",
              "  'points': [],\n",
              "  'center': array([-1.91512128, -1.8498164 ])},\n",
              " 1: {'color': 'green',\n",
              "  'points': [],\n",
              "  'center': array([-1.66275251,  2.36967617])},\n",
              " 2: {'color': 'blue',\n",
              "  'points': [],\n",
              "  'center': array([-0.32483727,  2.3826714 ])},\n",
              " 3: {'color': 'orange',\n",
              "  'points': [],\n",
              "  'center': array([7.70688894, 7.90431492])}}"
            ]
          },
          "metadata": {},
          "execution_count": 7
        }
      ],
      "source": [
        "clusters"
      ]
    },
    {
      "cell_type": "code",
      "execution_count": 8,
      "id": "2fbc5373",
      "metadata": {
        "id": "2fbc5373"
      },
      "outputs": [],
      "source": [
        "list_centers = []\n",
        "def K_means(clusters,X,n):\n",
        "    k = len(clusters)\n",
        "    for i in range(n):\n",
        "        centers = np.array([clusters[j][\"center\"] for j in range(k)])\n",
        "        for x in X:\n",
        "            p = []\n",
        "            for c in centers:\n",
        "                p.append(dist(c,x))\n",
        "            min_ = np.argmin(p) #returns min dist\n",
        "            clusters[min_][\"points\"].append(x) #append the value of point \"x\" in cluster\"min_\"'s points array\n",
        "        list_centers.append(centers)\n",
        "        update_center(clusters,k)"
      ]
    },
    {
      "cell_type": "code",
      "execution_count": 9,
      "id": "c5a9b34a",
      "metadata": {
        "id": "c5a9b34a"
      },
      "outputs": [],
      "source": [
        "def update_center(clusters,m):\n",
        "    for k in range(m):\n",
        "        clusters[k][\"center\"] = np.mean(clusters[k][\"points\"],axis=0)"
      ]
    },
    {
      "cell_type": "code",
      "execution_count": 11,
      "id": "8eafd208",
      "metadata": {
        "id": "8eafd208"
      },
      "outputs": [],
      "source": [
        "K_means(clusters,X,1000)"
      ]
    },
    {
      "cell_type": "code",
      "execution_count": 12,
      "id": "aae1aa60",
      "metadata": {
        "id": "aae1aa60"
      },
      "outputs": [],
      "source": [
        "for i in range(k):\n",
        "    clusters[i][\"points\"] = np.array(clusters[i][\"points\"])"
      ]
    },
    {
      "cell_type": "code",
      "execution_count": 13,
      "id": "2d5aaf7c",
      "metadata": {
        "colab": {
          "base_uri": "https://localhost:8080/"
        },
        "id": "2d5aaf7c",
        "outputId": "442db04d-2f18-4ab4-90c8-92fcb12cf14e"
      },
      "outputs": [
        {
          "output_type": "execute_result",
          "data": {
            "text/plain": [
              "{0: {'color': 'red', 'points': array([[-3.43086267, -1.36055926],\n",
              "         [-5.78932127, -7.31455182],\n",
              "         [-6.03604123, -7.05892193],\n",
              "         ...,\n",
              "         [-8.33299849, -5.95834949],\n",
              "         [-8.05667924, -5.32411802],\n",
              "         [-7.44536187, -5.90031803]]), 'center': array([-7.52673894, -5.95156156])},\n",
              " 1: {'color': 'green', 'points': array([[-5.96616455,  1.41614415],\n",
              "         [-5.25977461,  0.97491577],\n",
              "         [-4.05461012,  2.41031526],\n",
              "         ...,\n",
              "         [-3.98765997,  0.17066074],\n",
              "         [-4.4553593 , -0.13560022],\n",
              "         [-2.62194538, -0.28652312]]), 'center': array([-4.32581339,  0.38766327])},\n",
              " 2: {'color': 'blue', 'points': array([[0.42873774, 6.0737833 ],\n",
              "         [2.43630036, 3.84336631],\n",
              "         [1.98092382, 4.41917823],\n",
              "         ...,\n",
              "         [1.57790972, 3.86913521],\n",
              "         [0.47638344, 2.69748436],\n",
              "         [0.50482906, 4.04011305]]), 'center': array([1.02482119, 4.17575075])},\n",
              " 3: {'color': 'orange', 'points': array([[8.28471755, 7.54456991],\n",
              "         [7.26984778, 7.93062845],\n",
              "         [6.33620327, 7.64590408],\n",
              "         ...,\n",
              "         [6.59482223, 8.05910359],\n",
              "         [7.66272817, 8.31921813],\n",
              "         [7.38009213, 7.46547045]]), 'center': array([7.71705012, 7.9375281 ])}}"
            ]
          },
          "metadata": {},
          "execution_count": 13
        }
      ],
      "source": [
        "#new cluster\n",
        "clusters"
      ]
    },
    {
      "cell_type": "code",
      "execution_count": 14,
      "id": "06e3ec26",
      "metadata": {
        "colab": {
          "base_uri": "https://localhost:8080/",
          "height": 269
        },
        "id": "06e3ec26",
        "outputId": "1167bf67-7a25-4be9-c93c-1b6ad9b89968"
      },
      "outputs": [
        {
          "output_type": "display_data",
          "data": {
            "text/plain": [
              "<Figure size 432x288 with 1 Axes>"
            ],
            "image/png": "[encoded data removed]"
          },
          "metadata": {
            "needs_background": "light"
          }
        }
      ],
      "source": [
        "k = 4\n",
        "c = np.array([clusters[j][\"center\"] for j in range(k)])\n",
        "for i in range(k):\n",
        "    plt.scatter(clusters[i][\"points\"][:,0],clusters[i][\"points\"][:,1],c=clusters[i][\"color\"])\n",
        "plt.scatter(c[:,0],c[:,1],c=\"black\")\n",
        "plt.show()"
      ]
    },
    {
      "cell_type": "code",
      "execution_count": null,
      "id": "19ab1f76",
      "metadata": {
        "id": "19ab1f76"
      },
      "outputs": [],
      "source": []
    }
  ],
  "metadata": {
    "kernelspec": {
      "display_name": "Python 3 (ipykernel)",
      "language": "python",
      "name": "python3"
    },
    "language_info": {
      "codemirror_mode": {
        "name": "ipython",
        "version": 3
      },
      "file_extension": ".py",
      "mimetype": "text/x-python",
      "name": "python",
      "nbconvert_exporter": "python",
      "pygments_lexer": "ipython3",
      "version": "3.9.12"
    },
    "colab": {
      "provenance": []
    },
    "accelerator": "GPU",
    "gpuClass": "standard"
  },
  "nbformat": 4,
  "nbformat_minor": 5
}